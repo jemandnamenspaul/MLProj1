{
 "cells": [
  {
   "cell_type": "markdown",
   "metadata": {},
   "source": [
    "# Machine learning Project 1 : Higgs Boson"
   ]
  },
  {
   "cell_type": "code",
   "execution_count": 225,
   "metadata": {},
   "outputs": [
    {
     "name": "stdout",
     "output_type": "stream",
     "text": [
      "The autoreload extension is already loaded. To reload it, use:\n",
      "  %reload_ext autoreload\n"
     ]
    }
   ],
   "source": [
    "# Useful starting lines\n",
    "%matplotlib inline\n",
    "import numpy as np\n",
    "import matplotlib.pyplot as plt\n",
    "#import plotly.plotly as py\n",
    "#import plotly.graph_objs as go\n",
    "\n",
    "%load_ext autoreload\n",
    "%autoreload 2"
   ]
  },
  {
   "cell_type": "code",
   "execution_count": 253,
   "metadata": {},
   "outputs": [],
   "source": [
    "from proj1_helpers import *\n",
    "from implementations import *\n",
    "from myhelpers import *\n",
    "\n",
    "data_path = \"datasets/train.csv\"\n",
    "yb, input_data, ids = load_csv_data(data_path, sub_sample=False)"
   ]
  },
  {
   "cell_type": "markdown",
   "metadata": {},
   "source": [
    "### Allocation to classes due to PRI_jet_num"
   ]
  },
  {
   "cell_type": "code",
   "execution_count": 254,
   "metadata": {},
   "outputs": [],
   "source": [
    "# getting the number of data of PRI_jet_num = 0, 1, 2, 3\n",
    "def class_allocation(input_data, ids):\n",
    "    num_0 = 0\n",
    "    num_1 = 0\n",
    "    num_2 = 0\n",
    "    num_3 = 0 \n",
    "    for i in range(input_data.shape[0]):\n",
    "        if input_data[i,22] == 0:\n",
    "            num_0 = num_0 + 1\n",
    "        elif input_data[i,22] == 1:\n",
    "            num_1 = num_1 + 1\n",
    "        elif input_data[i,22] == 2:\n",
    "            num_2 = num_2 + 1\n",
    "        elif input_data[i,22] == 3:\n",
    "            num_3 = num_3 + 1\n",
    "\n",
    "    # initializing arrays for different PRI_jet_num\n",
    "\n",
    "    size = (num_0, input_data.shape[1])\n",
    "    jet_num_0 = np.zeros(size)\n",
    "    ids_0 = np.zeros(num_0)\n",
    "\n",
    "    size = (num_1, input_data.shape[1])\n",
    "    jet_num_1 = np.zeros(size)\n",
    "    ids_1 = np.zeros(num_1)\n",
    "\n",
    "    size = (num_2, input_data.shape[1])\n",
    "    jet_num_2 = np.zeros(size)\n",
    "    ids_2 = np.zeros(num_2)\n",
    "\n",
    "    size = (num_3, input_data.shape[1])\n",
    "    jet_num_3 = np.zeros(size)\n",
    "    ids_3 = np.zeros(num_3)\n",
    "\n",
    "    # allocating input_data to different classes due to their PRI_jet_num value\n",
    "    i_0, i_1, i_2, i_3 = 0, 0, 0, 0\n",
    "\n",
    "\n",
    "    for i in range(input_data.shape[0]):\n",
    "        if input_data[i,22] == 0:\n",
    "            jet_num_0[i_0,:] = input_data[i,:]\n",
    "            ids_0[i_0] = ids[i]\n",
    "            yb\n",
    "            i_0 = i_0 + 1\n",
    "        elif input_data[i,22] == 1:\n",
    "            jet_num_1[i_1,:] = input_data[i,:]\n",
    "            ids_1[i_1] = ids[i]\n",
    "            i_1 = i_1 + 1\n",
    "        elif input_data[i,22] == 2:\n",
    "            jet_num_2[i_2,:] = input_data[i,:]\n",
    "            ids_2[i_2] = ids[i]\n",
    "            i_2 = i_2 + 1\n",
    "        elif input_data[i,22] == 3:\n",
    "            jet_num_3[i_3,:] = input_data[i,:]\n",
    "            ids_3[i_3] = ids[i]\n",
    "            i_3 = i_3 + 1\n",
    "    return jet_num_0, ids_0, jet_num_1, ids_1, jet_num_2, ids_2, jet_num_3, ids_3"
   ]
  },
  {
   "cell_type": "code",
   "execution_count": 258,
   "metadata": {},
   "outputs": [
    {
     "name": "stdout",
     "output_type": "stream",
     "text": [
      "(250000, 30) (99913, 30) (77544, 30) (50379, 30) (22164, 30)\n",
      "(250000,) (99913,) (77544,) (50379,) (22164,)\n"
     ]
    }
   ],
   "source": [
    "jet_num_0, ids_0, jet_num_1, ids_1, jet_num_2, ids_2, jet_num_3, ids_3 = class_allocation(input_data, ids)\n",
    "print(input_data.shape, jet_num_0.shape, jet_num_1.shape, jet_num_2.shape, jet_num_3.shape)\n",
    "print(ids.shape, ids_0.shape, ids_1.shape, ids_2.shape, ids_3.shape)\n"
   ]
  },
  {
   "cell_type": "markdown",
   "metadata": {},
   "source": [
    "### Data Cleaning\n",
    "We clean the four matrices from features that with a standard deviation of 0. These features are considered non-measured or not measured."
   ]
  },
  {
   "cell_type": "code",
   "execution_count": 233,
   "metadata": {},
   "outputs": [],
   "source": [
    "def remove_useless_cols(matrix):\n",
    "    std_cols = np.std(matrix, axis=0)\n",
    "    num_rem = 0\n",
    "    for col in reversed(range(matrix.shape[1])):\n",
    "        if std_cols[col] == 0:\n",
    "            num_rem = num_rem + 1\n",
    "    removed_cols = np.zeros(num_rem)\n",
    "    k = 0        \n",
    "    for col in reversed(range(matrix.shape[1])):\n",
    "        if std_cols[col] == 0:\n",
    "            matrix = np.delete(matrix,col,1)\n",
    "            removed_cols[k] = col\n",
    "            k = k + 1\n",
    "    return matrix, removed_cols"
   ]
  },
  {
   "cell_type": "code",
   "execution_count": 234,
   "metadata": {},
   "outputs": [],
   "source": [
    "# removing insignificant features in jet_num_0\n",
    "jet_num_0, removed_cols_0 = remove_useless_cols(jet_num_0)\n",
    "jet_num_1, removed_cols_1 = remove_useless_cols(jet_num_1)\n",
    "jet_num_2, removed_cols_2 = remove_useless_cols(jet_num_2)\n",
    "jet_num_3, removed_cols_3 = remove_useless_cols(jet_num_3)"
   ]
  },
  {
   "cell_type": "code",
   "execution_count": 235,
   "metadata": {},
   "outputs": [
    {
     "name": "stdout",
     "output_type": "stream",
     "text": [
      "[29. 28. 27. 26. 25. 24. 23. 22. 12.  6.  5.  4.] [28. 27. 26. 22. 12.  6.  5.  4.] [22.] [22.]\n"
     ]
    }
   ],
   "source": [
    "# test section\n",
    "print(removed_cols_0, removed_cols_1, removed_cols_2, removed_cols_3)"
   ]
  },
  {
   "cell_type": "markdown",
   "metadata": {},
   "source": [
    "### Testing, whether there are still -999 or 0 values within the matrices\n",
    "It turns out that there is still invalid data within the four sets."
   ]
  },
  {
   "cell_type": "code",
   "execution_count": 236,
   "metadata": {},
   "outputs": [],
   "source": [
    "def test_invalid_vals(matrix):\n",
    "    num = 0\n",
    "    for i in range(matrix.shape[0]):\n",
    "        for j in range(matrix.shape[1]):\n",
    "            if matrix[i,j] == -999 or matrix[i,j] == 0:\n",
    "                num = num + 1\n",
    "    return num"
   ]
  },
  {
   "cell_type": "code",
   "execution_count": 237,
   "metadata": {},
   "outputs": [
    {
     "name": "stdout",
     "output_type": "stream",
     "text": [
      "26265 7652 12995 7362\n"
     ]
    }
   ],
   "source": [
    "print(test_invalid_vals(jet_num_0), test_invalid_vals(jet_num_1), test_invalid_vals(jet_num_2), test_invalid_vals(jet_num_3))"
   ]
  },
  {
   "cell_type": "markdown",
   "metadata": {},
   "source": [
    "### Data Cleaning and Standardization\n",
    "removing invalid (-999) values from the four matrices"
   ]
  },
  {
   "cell_type": "code",
   "execution_count": 238,
   "metadata": {},
   "outputs": [],
   "source": [
    "def clean_data(matrix):\n",
    "    cleansubx = matrix\n",
    "    cleansubx[np.where(cleansubx == -999)] = 0\n",
    "    means_by_columns = np.mean(cleansubx, axis=0)\n",
    "    for i in range(matrix.shape[1]):\n",
    "        matrix[:,np.where(matrix[:,i]==-999)] = means_by_columns[i]\n",
    "    return matrix\n",
    "\n",
    "def clean_and_standardize(matrix):\n",
    "    matrix = clean_data(matrix)\n",
    "    matrix = standardize(matrix)\n",
    "    return matrix"
   ]
  },
  {
   "cell_type": "code",
   "execution_count": 239,
   "metadata": {},
   "outputs": [
    {
     "name": "stdout",
     "output_type": "stream",
     "text": [
      "0 0 0 0\n"
     ]
    }
   ],
   "source": [
    "jet_num_0 = clean_and_standardize(jet_num_0)\n",
    "jet_num_1 = clean_and_standardize(jet_num_1)\n",
    "jet_num_2 = clean_and_standardize(jet_num_2)\n",
    "jet_num_3 = clean_and_standardize(jet_num_3)\n",
    "print(test_invalid_vals(jet_num_0), test_invalid_vals(jet_num_1), test_invalid_vals(jet_num_2), test_invalid_vals(jet_num_3))"
   ]
  },
  {
   "cell_type": "markdown",
   "metadata": {},
   "source": [
    "### Identify correlations \n",
    "Correlation coefficients of the features, to understand if they are linearly correlated. A person correlation coefficient above 0.8 (bound) was considered as high.  \n",
    "These columns are highly linearly correlated:  \n",
    "jet_num_0: (3, 5), (6, 9) -> 5, 9 will be removed  \n",
    "jet_num_1: (3, 6), (3, 18), (3, 21), (6, 18), (6, 21), (18, 21) -> 6, 18, 21 will be removed  \n",
    "jet_num_2: (3, 9), (4, 5), (9, 21), (9, 22), (9, 28), (21, 28), (22, 28) -> 9, 5, 21, 22, 28 will be removed  \n",
    "jet_num_3: (9, 21), (9, 22), (9, 28), (21, 22), (21, 28), (22, 28), (25, 28) -> 21, 22, 28 will be removed  "
   ]
  },
  {
   "cell_type": "code",
   "execution_count": 240,
   "metadata": {},
   "outputs": [],
   "source": [
    "def plot_corr(matrix):\n",
    "    cols = matrix.shape[1]\n",
    "    cor_matrix = np.corrcoef(matrix.T)\n",
    "    plt.figure(1, figsize=(12,12))\n",
    "    plt.matshow(np.abs(cor_matrix),1)\n",
    "    plt.xticks(range(cols), range(cols))\n",
    "    plt.yticks(range(cols), range(cols))\n",
    "    plt.colorbar()\n",
    "    plt.savefig('correlation_matrix'+'.png')"
   ]
  },
  {
   "cell_type": "code",
   "execution_count": 241,
   "metadata": {},
   "outputs": [],
   "source": [
    "def get_correlations(matrix, bound):\n",
    "    high_corr = []\n",
    "    cor_matrix = np.corrcoef(matrix.T)\n",
    "    for i in range(cor_matrix.shape[0]):\n",
    "        for j in range(i+1,cor_matrix.shape[1]):\n",
    "            if cor_matrix[i,j] > bound:\n",
    "                high_corr.append((i,j))\n",
    "    return high_corr"
   ]
  },
  {
   "cell_type": "code",
   "execution_count": 242,
   "metadata": {},
   "outputs": [
    {
     "name": "stdout",
     "output_type": "stream",
     "text": [
      "[(3, 5), (6, 9)]\n",
      "[(3, 6), (3, 18), (3, 21), (6, 18), (6, 21), (18, 21)]\n",
      "[(3, 9), (4, 5), (9, 21), (9, 22), (9, 28), (21, 28), (22, 28)]\n",
      "[(9, 21), (9, 22), (9, 28), (21, 22), (21, 28), (22, 28), (25, 28)]\n"
     ]
    }
   ],
   "source": [
    "bound = 0.8\n",
    "print(get_correlations(jet_num_0, bound))\n",
    "print(get_correlations(jet_num_1, bound))\n",
    "print(get_correlations(jet_num_2, bound))\n",
    "print(get_correlations(jet_num_3, bound))"
   ]
  },
  {
   "cell_type": "code",
   "execution_count": 243,
   "metadata": {},
   "outputs": [
    {
     "data": {
      "image/png": "[encoded data removed]",
      "text/plain": [
       "<Figure size 864x864 with 2 Axes>"
      ]
     },
     "metadata": {},
     "output_type": "display_data"
    }
   ],
   "source": [
    "plot_corr(jet_num_0)"
   ]
  },
  {
   "cell_type": "code",
   "execution_count": 244,
   "metadata": {},
   "outputs": [
    {
     "name": "stdout",
     "output_type": "stream",
     "text": [
      "[]\n",
      "[]\n",
      "[]\n",
      "[]\n"
     ]
    },
    {
     "data": {
      "image/png": "[encoded data removed]",
      "text/plain": [
       "<Figure size 864x864 with 2 Axes>"
      ]
     },
     "metadata": {},
     "output_type": "display_data"
    }
   ],
   "source": [
    "# test, if it worked. it worked.\n",
    "jet_num_0_new = np.delete(jet_num_0,[5,9],1)\n",
    "jet_num_1_new = np.delete(jet_num_1,[6, 18, 21],1)\n",
    "jet_num_2_new = np.delete(jet_num_2,[9, 5, 21, 22, 28],1)\n",
    "jet_num_3_new = np.delete(jet_num_3,[21, 22, 28],1)\n",
    "\n",
    "print(get_correlations(jet_num_0_new, bound))\n",
    "print(get_correlations(jet_num_1_new, bound))\n",
    "print(get_correlations(jet_num_2_new, bound))\n",
    "print(get_correlations(jet_num_3_new, bound))\n",
    "\n",
    "plot_corr(jet_num_3_new)"
   ]
  },
  {
   "cell_type": "markdown",
   "metadata": {},
   "source": [
    "# Fitting a linear model\n",
    "First of all we fit our linear model on the subset of data, and then use the whole train dataset to test it, at least at the beginning. In the end we will use the whole dataset to train the model. We try with 5 polynomial degrees per feature, otherwise the number of features becomes too large.\n",
    "Compare the mse and the computational time of the 3 methods to get the least squares solution: the first one is the correct one, but maybe the others are faster.\n",
    "\n",
    "\n",
    "1.Linear regression with mse and normal equations\n",
    "\n",
    "\n",
    "2.Linear regression with mse and gradient descent\n",
    "\n",
    "\n",
    "3.Linear regression with mse and stochastic gradient descent\n",
    "\n"
   ]
  },
  {
   "cell_type": "code",
   "execution_count": 246,
   "metadata": {},
   "outputs": [],
   "source": [
    "# Function that builds a polynomial basis of the chosen degree for a column \n",
    "def build_poly_col(x, degree):\n",
    "    \"\"\"polynomial basis functions for input column x, for j=1 up to j=degree.\"\"\"\n",
    "    \n",
    "    y = x\n",
    "        \n",
    "    for n in range(2,degree+1):\n",
    "        x = np.c_[x, np.power(y,n)]\n",
    "            \n",
    "    return x\n",
    "\n",
    "# Function that builds a polynomial basis for the data (each column has the same degree)\n",
    "def build_poly(data, degree):\n",
    "    \"\"\"polynomial basis for input data up to the chosen degree in each column\"\"\"\n",
    "    \n",
    "    X = np.c_[np.ones(data.shape[0])]\n",
    "    for j in range(data.shape[1]):\n",
    "        x_col = build_poly_col(data[:,j], degree)\n",
    "        X = np.c_[X, x_col]\n",
    "        \n",
    "    return X\n"
   ]
  },
  {
   "cell_type": "code",
   "execution_count": 247,
   "metadata": {},
   "outputs": [],
   "source": [
    "# Functions to build the indices and split the data to perform cross validation\n",
    "\n",
    "def build_k_indices(y, k_fold, seed):\n",
    "    \"\"\"build k indices for k-fold.\"\"\"\n",
    "    \n",
    "    num_row = y.shape[0]\n",
    "    interval = int(num_row / k_fold)\n",
    "    np.random.seed(seed)\n",
    "    indices = np.random.permutation(num_row)\n",
    "    k_indices = [indices[k * interval: (k + 1) * interval]\n",
    "                 for k in range(k_fold)]\n",
    "    return np.array(k_indices)\n",
    "\n",
    "\n",
    "def split_dataset(y, x, k, k_indices):\n",
    "    \"\"\"Returns the matrices and vectors Test and Train used in a k-fold cross validation\"\"\"\n",
    "    \n",
    "    # get k'th subgroup in test, others in train.\n",
    "    X_test = x[k_indices[k]]\n",
    "    y_test = y[k_indices[k]]\n",
    "    X_train = np.delete(x,k_indices[k],0)\n",
    "    y_train = np.delete(y,k_indices[k])\n",
    "    \n",
    "    return X_test, y_test, X_train, y_train\n"
   ]
  },
  {
   "cell_type": "code",
   "execution_count": 248,
   "metadata": {},
   "outputs": [],
   "source": [
    "\n",
    "def ls_polynomial_basis(yb, data, kfolds, degrees):\n",
    "    \"\"\"Builds a polynomial basis according to the chosen degree and solves the least squares problem\n",
    "        with the normal equations, performing a k-fold cross validation to compute the rmse and the weights\"\"\"\n",
    "    \n",
    "    rmse_train=[]\n",
    "    rmse_test=[]\n",
    "    seed = 2\n",
    "\n",
    "    # Build indices to split data\n",
    "    k_indices = build_k_indices(yb, kfolds, seed)\n",
    "\n",
    "    # Define lists to store the loss of training data and test data\n",
    "    rmse_tr = []\n",
    "    rmse_te = []\n",
    "    std_tr = []\n",
    "    std_te = []\n",
    "    w_ls = []\n",
    "\n",
    "    # Choose the degrees and loop over them\n",
    "    for degree in degrees:\n",
    "        rmse_tr_k=[]\n",
    "        rmse_te_k=[]\n",
    "        w_ls_deg = []\n",
    "    \n",
    "        # Build X matrix\n",
    "        data1 = build_poly(data, degree)\n",
    "    \n",
    "        # Loop over the folds\n",
    "        for k in range(kfolds):\n",
    "        \n",
    "            data_test_ls, y_test_ls, data_train_ls, y_train_ls = split_dataset(yb, data1, k, k_indices)   \n",
    "        \n",
    "            # Train and store rmse\n",
    "            w_ls_k, mse_ls_k = least_squares(y_train_ls, data_train_ls)\n",
    "            rmse_test = np.sqrt(2*compute_mse(y_test_ls, data_test_ls, w_ls_k))\n",
    "            \n",
    "            rmse_tr_k.append(np.sqrt(2*mse_ls_k))\n",
    "            rmse_te_k.append(rmse_test)\n",
    "            w_ls_deg.append(w_ls_k)\n",
    "            \n",
    "        \n",
    "        # Append rmse (and std over the folds) in the vectors\n",
    "        rmse_tr.append(np.mean(rmse_tr_k))\n",
    "        rmse_te.append(np.mean(rmse_te_k))\n",
    "        std_tr.append(np.std(rmse_tr_k))\n",
    "        std_te.append(np.std(rmse_te_k))\n",
    "        w_ls.append(np.mean(w_ls_deg, axis=0))\n",
    "        \n",
    "\n",
    "    return rmse_tr, rmse_te, std_tr, std_te, w_ls"
   ]
  },
  {
   "cell_type": "markdown",
   "metadata": {},
   "source": [
    "We try this first simple model both on the matrix with all the features and on the reduced matrix, and compare the results."
   ]
  },
  {
   "cell_type": "code",
   "execution_count": 249,
   "metadata": {},
   "outputs": [
    {
     "ename": "NameError",
     "evalue": "name 'data' is not defined",
     "output_type": "error",
     "traceback": [
      "\u001b[0;31m---------------------------------------------------------------------------\u001b[0m",
      "\u001b[0;31mNameError\u001b[0m                                 Traceback (most recent call last)",
      "\u001b[0;32m<ipython-input-249-1f30b5c4f8b6>\u001b[0m in \u001b[0;36m<module>\u001b[0;34m()\u001b[0m\n\u001b[1;32m      2\u001b[0m \u001b[0;34m\u001b[0m\u001b[0m\n\u001b[1;32m      3\u001b[0m \u001b[0mrmse_train_tot\u001b[0m\u001b[0;34m,\u001b[0m \u001b[0mrmse_test_tot\u001b[0m\u001b[0;34m,\u001b[0m \u001b[0mstd_train_tot\u001b[0m\u001b[0;34m,\u001b[0m \u001b[0mstd_test_tot\u001b[0m\u001b[0;34m,\u001b[0m \u001b[0mw_tot\u001b[0m \u001b[0;34m=\u001b[0m \u001b[0mls_polynomial_basis\u001b[0m\u001b[0;34m(\u001b[0m\u001b[0myb\u001b[0m\u001b[0;34m,\u001b[0m \u001b[0minput_data\u001b[0m\u001b[0;34m,\u001b[0m \u001b[0;36m5\u001b[0m\u001b[0;34m,\u001b[0m \u001b[0mdegrees\u001b[0m\u001b[0;34m)\u001b[0m\u001b[0;34m\u001b[0m\u001b[0m\n\u001b[0;32m----> 4\u001b[0;31m \u001b[0mrmse_train_red\u001b[0m\u001b[0;34m,\u001b[0m \u001b[0mrmse_test_red\u001b[0m\u001b[0;34m,\u001b[0m \u001b[0mstd_train_red\u001b[0m\u001b[0;34m,\u001b[0m \u001b[0mstd_test_red\u001b[0m\u001b[0;34m,\u001b[0m \u001b[0mw_red\u001b[0m \u001b[0;34m=\u001b[0m \u001b[0mls_polynomial_basis\u001b[0m\u001b[0;34m(\u001b[0m\u001b[0myb\u001b[0m\u001b[0;34m,\u001b[0m \u001b[0mdata\u001b[0m\u001b[0;34m,\u001b[0m \u001b[0;36m5\u001b[0m\u001b[0;34m,\u001b[0m \u001b[0mdegrees\u001b[0m\u001b[0;34m)\u001b[0m\u001b[0;34m\u001b[0m\u001b[0m\n\u001b[0m\u001b[1;32m      5\u001b[0m \u001b[0;34m\u001b[0m\u001b[0m\n\u001b[1;32m      6\u001b[0m \u001b[0;31m# Plot RMSE to compare the results\u001b[0m\u001b[0;34m\u001b[0m\u001b[0;34m\u001b[0m\u001b[0m\n",
      "\u001b[0;31mNameError\u001b[0m: name 'data' is not defined"
     ]
    }
   ],
   "source": [
    "degrees = range(1,5)\n",
    "\n",
    "rmse_train_tot, rmse_test_tot, std_train_tot, std_test_tot, w_tot = ls_polynomial_basis(yb, input_data, 5, degrees)\n",
    "rmse_train_red, rmse_test_red, std_train_red, std_test_red, w_red = ls_polynomial_basis(yb, data, 5, degrees)\n",
    "\n",
    "# Plot RMSE to compare the results\n",
    "fig3, axs= plt.subplots(1,2, figsize=(14,6))\n",
    "axs[0].plot(degrees, rmse_train_tot, marker=\".\", c='b', label='Train error')\n",
    "axs[0].plot(degrees, rmse_test_tot, marker=\".\", c='r', label='Test error')\n",
    "#plt.errorbar(degrees, rmse_tr, std_tr, marker=\".\", color='b', label='Train error')\n",
    "#plt.errorbar(degrees, rmse_te, std_te, marker=\".\", color='r', label='Test error')\n",
    "axs[0].set_xlabel(\"Degrees\")\n",
    "axs[0].set_ylabel(\"RMSE\")\n",
    "axs[0].set_title(\"RMSE Least Squares polynomial basis TOTAL\")\n",
    "axs[0].legend(loc=2)\n",
    "axs[0].set_xticks(degrees)\n",
    "\n",
    "axs[1].plot(degrees, rmse_train_red, marker=\".\", c='b', label='Train error')\n",
    "axs[1].plot(degrees, rmse_test_red, marker=\".\", c='r', label='Test error')\n",
    "axs[1].set_xlabel(\"Degrees\")\n",
    "axs[1].set_ylabel(\"RMSE\")\n",
    "axs[1].set_title(\"RMSE Least Squares polynomial basis REDUCED\")\n",
    "axs[1].legend(loc=2)\n",
    "axs[1].set_xticks(degrees)\n",
    "plt.savefig(\"rmse_ls\")\n"
   ]
  },
  {
   "cell_type": "code",
   "execution_count": null,
   "metadata": {},
   "outputs": [],
   "source": [
    "print('Training RMSE LS with NORMAL EQUATIONS: {err1}'.format(err1=rmse_train_red))"
   ]
  },
  {
   "cell_type": "markdown",
   "metadata": {},
   "source": [
    "In both cases we find a significant overfitting even at a low degree (3,4) and to try to reduce it we use ridge regression. Before doing that, we try to minimize the mse loss function with GD and SGD: we should get an approximation of the minimum (compare the values with the exact value give by LS!) but maybe save computational time. However we should put a lot of effort in tuning the parameters for the iterative method (max_iter, gamma) and maybe it's not worth it."
   ]
  },
  {
   "cell_type": "markdown",
   "metadata": {},
   "source": [
    "### Gradient descent and stochastic gradient descent."
   ]
  },
  {
   "cell_type": "code",
   "execution_count": null,
   "metadata": {},
   "outputs": [],
   "source": [
    "degree = 2\n",
    "max_iters = 2000\n",
    "\n",
    "# build the matrix and call the methods, after setting the parameters to ensure convergence\n",
    "data2 = build_poly(data,2)\n",
    "w_initial_red = np.zeros(data2.shape[1])\n",
    "\n",
    "w_red_GD, mse_red_GD = least_squares_GD(yb, data2, w_initial_red, max_iters, 0.001, tol=1e-4)\n",
    "w_red_SGD, mse_red_SGD = least_squares_SGD(yb, data2, w_initial_red, max_iters, 0.001, tol=1e-5)\n",
    "\n",
    "rmse_train_red_GD = np.sqrt(2*mse_red_GD)\n",
    "rmse_train_red_SGD = np.sqrt(2*mse_red_SGD)\n",
    "\n",
    "print('Training RMSE LS with NORMAL EQUATIONS: {err1}'.format(err1=rmse_train_red[1]))\n",
    "print('Training RMSE LS with GRADIENT DESCENT: {err2}'.format(err2=rmse_train_red_GD))\n",
    "print('Training RMSE LS with STOCHASTIC GRADIENT DESCENT: {err3}'.format(err3=rmse_train_red_SGD))"
   ]
  },
  {
   "cell_type": "code",
   "execution_count": null,
   "metadata": {},
   "outputs": [],
   "source": [
    "print('Distance between the weigths normal equations/GD: {dist1}'.format(dist1=np.linalg.norm(w_red[1] - w_red_GD)))\n",
    "print('Distance between the weigths normal equations/SGD: {dist2}'.format(dist2=np.linalg.norm(w_red[1] - w_red_SGD)))"
   ]
  },
  {
   "cell_type": "markdown",
   "metadata": {},
   "source": [
    "We can't see any useful improvement by using the approximate methods to solve the minimization problem: the error on the training set is higher (correct) even if the one with GD is comparable, the computational time is even higher and moreover we need to run different attempts in order to decide the suitable parameters max_iters and gamma to obtain convergence. "
   ]
  },
  {
   "cell_type": "markdown",
   "metadata": {},
   "source": [
    "### Ridge regression.\n",
    "Since we had the problem of overfitting, we try to introduce a regularization technique, based again on the mse loss function.\n",
    "We try with different lambdas and do a 5 folds cross validation with a fixed degree (=2), then we try again changing the degree because this is exactly the purpose of the regularization technique."
   ]
  },
  {
   "cell_type": "code",
   "execution_count": null,
   "metadata": {},
   "outputs": [],
   "source": [
    "def compute_accuracy(ypred, yknown):\n",
    "    \"\"\"Computes the accuracy of the prediction as n_exact_predictions/total\"\"\"\n",
    "    \n",
    "    nexact = np.sum(ypred == yknown)\n",
    "    return nexact/len(yknown)"
   ]
  },
  {
   "cell_type": "code",
   "execution_count": null,
   "metadata": {},
   "outputs": [],
   "source": [
    "def ridge_lambda(yb, data, kfolds, degree, lambdas):\n",
    "    \"\"\"Builds a polynomial basis according to the chosen degree and solves the ridge regression\n",
    "        with the normal equations for all the lambdas in lambdas, performing a k-fold cross validation \n",
    "        to compute the rmse and the weights\"\"\"\n",
    "    \n",
    "    rmse_train=[]\n",
    "    rmse_test=[]\n",
    "    seed = 3\n",
    "\n",
    "    # Build indices to split data\n",
    "    k_indices = build_k_indices(yb, kfolds, seed)\n",
    "\n",
    "    # Define lists to store the loss of training data and test data\n",
    "    rmse_tr = []\n",
    "    rmse_te = []\n",
    "    std_tr = []\n",
    "    std_te = []\n",
    "    w_ridge = []\n",
    "    accuracy = []\n",
    "\n",
    "    # Loop over the lambdas\n",
    "    for lam in lambdas:\n",
    "        rmse_tr_k=[]\n",
    "        rmse_te_k=[]\n",
    "        w_ridge_lam = []\n",
    "        accuracy_lam = []\n",
    "        \n",
    "        # Build X matrix\n",
    "        data1 = build_poly(data, degree)\n",
    "    \n",
    "        # Loop over the folds\n",
    "        for k in range(kfolds):\n",
    "        \n",
    "            data_test, y_test, data_train, y_train = split_dataset(yb, data1, k, k_indices)   \n",
    "        \n",
    "            # Train the model\n",
    "            w_k, mse_k = ridge_regression(y_train, data_train, lam)\n",
    "            rmse_test = np.sqrt(2*compute_mse(y_test, data_test, w_k))\n",
    "            \n",
    "            # Do the prediction on the test set and compute accuracy\n",
    "            ypred = predict_labels(w_k, data_test)\n",
    "            acc_k = compute_accuracy(ypred, y_test)\n",
    "            \n",
    "            # Store rmse, weights and accuracy\n",
    "            rmse_tr_k.append(np.sqrt(2*mse_k))\n",
    "            rmse_te_k.append(rmse_test)\n",
    "            w_ridge_lam.append(w_k)\n",
    "            accuracy_lam.append(acc_k)\n",
    "        \n",
    "        # Append rmse (and std over the folds) in the lists\n",
    "        rmse_tr.append(np.mean(rmse_tr_k))\n",
    "        rmse_te.append(np.mean(rmse_te_k))\n",
    "        std_tr.append(np.std(rmse_tr_k))\n",
    "        std_te.append(np.std(rmse_te_k))\n",
    "        w_ridge.append(np.mean(w_ridge_lam, axis=0))\n",
    "        accuracy.append(np.mean(accuracy_lam))\n",
    "        \n",
    "\n",
    "    return rmse_tr, rmse_te, std_tr, std_te, w_ridge, accuracy"
   ]
  },
  {
   "cell_type": "code",
   "execution_count": null,
   "metadata": {},
   "outputs": [],
   "source": [
    "def ridge_lambda_vis(lambdas, rmse_tr, rmse_te, std_train, std_test, acc, deg):\n",
    "    \"\"\"visualization of the curves of rmse_tr and rmse_te, and of the accuracy\"\"\"\n",
    "    \n",
    "    plt.figure(4, figsize=(16,5))\n",
    "    plt.subplot(1,2,1)\n",
    "    plt.semilogx(lambdas, rmse_tr, marker=\".\", color='b', label='Train error')\n",
    "    plt.semilogx(lambdas, rmse_te, marker=\".\", color='r', label='Test error')\n",
    "    #plt.errorbar(np.log10(lambdas), rmse_tr, std_train, label='Train error')\n",
    "    #plt.errorbar(np.log10(lambdas), rmse_te, std_test, label='Test error')\n",
    "    #plt.plot(lambdas, rmse_tr, marker=\".\", color='b', label='Train error')\n",
    "    #plt.plot(lambdas, rmse_te, marker=\".\", color='r', label='Test error')\n",
    "    plt.xlabel(\"Lambda\")\n",
    "    plt.ylabel(\"RMSE\")\n",
    "    plt.title(\"RMSE ridge regression with degree {ddd}\".format(ddd=deg))\n",
    "    plt.legend(loc=2)\n",
    "    plt.grid(True)\n",
    "    \n",
    "    plt.subplot(1,2,2)\n",
    "    plt.semilogx(lambdas, acc,  marker=\".\", color='b', label='Accuracy')\n",
    "    plt.xlabel(\"Lambda\")\n",
    "    plt.ylabel(\"Accuracy\")\n",
    "    plt.title(\"ACCURACY ridge regression with degree {ddd}\".format(ddd=deg))\n",
    "    plt.legend(loc=1)\n",
    "    plt.grid(True)"
   ]
  },
  {
   "cell_type": "code",
   "execution_count": null,
   "metadata": {},
   "outputs": [],
   "source": [
    "degree = 4\n",
    "kfolds = 5\n",
    "lambdas = np.logspace(-6,1,30)\n",
    "\n",
    "rmse_ridge_train, rmse_ridge_test, std_train, std_test, w_ridge, accuracy = ridge_lambda(yb, data, kfolds, degree, lambdas)\n",
    "ridge_lambda_vis(lambdas, rmse_ridge_train, rmse_ridge_test, std_train, std_test, accuracy, degree)"
   ]
  },
  {
   "cell_type": "markdown",
   "metadata": {},
   "source": [
    "### Grid search.\n",
    "To find the best couple (lambda, degree): I run it on a subset of the data (to save computational time) and then on the whole matrix, and check the difference in the rmse test.\n",
    "\n",
    "1.Define ranges for lambda and degree.\n",
    "\n",
    "2.Loop over the degrees.\n",
    "\n",
    "3.Call the function ridge_lambda(). \n",
    "\n",
    "4.Save rmse test in a matrix: rows=degree, cols=lambdas.\n",
    "\n",
    "5.Get the minimum and the associated parameters."
   ]
  },
  {
   "cell_type": "code",
   "execution_count": null,
   "metadata": {},
   "outputs": [],
   "source": [
    "# load a subset of the engineered data to save computational time\n",
    "yb_grid = yb[::25]\n",
    "data_grid = data[::25]\n",
    "ids_grid= ids[::25]"
   ]
  },
  {
   "cell_type": "code",
   "execution_count": null,
   "metadata": {},
   "outputs": [],
   "source": [
    "# Define the range for the parameters \n",
    "degree_grid = range(1,15)\n",
    "lambdas_grid = np.linspace(0,1,50)\n",
    "kfolds = 5\n",
    "\n",
    "losses = np.zeros((len(degree_grid),len(lambdas_grid)))\n",
    "accuracies = np.zeros((len(degree_grid),len(lambdas_grid)))\n",
    "\n",
    "# Perform a grid search\n",
    "for i, deg in enumerate(degree_grid):\n",
    "        \n",
    "        rmse_ridge_train, rmse_ridge_test, std_train, std_test, w_ridge, acc = ridge_lambda(yb_grid, data_grid, kfolds, deg, lambdas_grid)\n",
    "        losses[i,:] = rmse_ridge_test\n",
    "        accuracies[i,:] = acc\n",
    "        \n",
    "min_rmse_test, deg_opt_err, lam_opt_err = get_best_rmse(lambdas_grid, degree_grid, losses)  \n",
    "max_accuracy, deg_opt_acc, lam_opt_acc = get_best_accuracy(lambdas_grid, degree_grid, accuracies)\n",
    "\n",
    "print('Minimum Test RMSE (on the subset): {rmse}'.format(rmse=min_rmse_test))\n",
    "print('Optimal degree: {d}'.format(d=deg_opt_err))\n",
    "print('Optimal lambda: {l}'.format(l=lam_opt_err))\n",
    "\n",
    "print('Maximum accuracy (on the subset): {acc}'.format(acc=max_accuracy))\n",
    "print('Optimal degree: {d}'.format(d=deg_opt_acc))\n",
    "print('Optimal lambda: {l}'.format(l=lam_opt_acc))"
   ]
  },
  {
   "cell_type": "code",
   "execution_count": null,
   "metadata": {},
   "outputs": [],
   "source": [
    "def get_worst_parameters(lam, deg, losses):\n",
    "    \"\"\"Get the best (lam, deg) from the result of grid search.\"\"\"\n",
    " \n",
    "    max_row, max_col = np.unravel_index(np.argmax(losses), losses.shape)\n",
    "    return losses[max_row, max_col], deg[max_row], lam[max_col]\n",
    "\n",
    "max_rmse, deg_wor, lam_wor = get_worst_parameters(lambdas_grid, degree_grid, losses)\n",
    "print('Maximum Test RMSE (on the subset): {rmse}'.format(rmse=max_rmse))\n",
    "print('Worst degree: {d}'.format(d=deg_wor))\n",
    "print('Worst lambda: {l}'.format(l=lam_wor))"
   ]
  },
  {
   "cell_type": "markdown",
   "metadata": {},
   "source": [
    "Now we try again with another subset of data and see the differences in the rmse."
   ]
  },
  {
   "cell_type": "code",
   "execution_count": null,
   "metadata": {
    "scrolled": true
   },
   "outputs": [],
   "source": [
    "# load another subset of the engineered data to save computational time\n",
    "yb_grid1 = yb[::10]\n",
    "data_grid1 = data[::10]\n",
    "ids_grid1 = ids[::10]\n",
    "\n",
    "# Define the range for the parameters \n",
    "degree_grid = range(1,10)\n",
    "lambdas_grid = np.linspace(-1,2,40)\n",
    "kfolds = 5\n",
    "\n",
    "losses = np.zeros((len(degree_grid),len(lambdas_grid)))\n",
    "accuracies = np.zeros((len(degree_grid),len(lambdas_grid)))\n",
    "\n",
    "# Perform a grid search\n",
    "for i, deg in enumerate(degree_grid):\n",
    "        \n",
    "        rmse_ridge_train, rmse_ridge_test, std_train, std_test, w_ridge, acc = ridge_lambda(yb_grid1, data_grid1, kfolds, deg, lambdas_grid)\n",
    "        losses[i,:] = rmse_ridge_test\n",
    "        accuracies[i,:] = acc\n",
    "        \n",
    "min_rmse_test1, deg_opt1, lam_opt1 = get_best_rmse(lambdas_grid, degree_grid, losses)   \n",
    "max_accuracy1, deg_opt_acc1, lam_opt_acc1 = get_best_accuracy(lambdas_grid, degree_grid, accuracies)\n",
    "\n",
    "print('Minimum Test RMSE (on the second subset): {rmse}'.format(rmse=min_rmse_test1))\n",
    "print('Optimal degree: {d}'.format(d=deg_opt1))\n",
    "print('Optimal lambda: {l}'.format(l=lam_opt1))\n",
    "\n",
    "print('Maximum accuracy (on the second subset): {acc}'.format(acc=max_accuracy1))\n",
    "print('Optimal degree: {d}'.format(d=deg_opt_acc1))\n",
    "print('Optimal lambda: {l}'.format(l=lam_opt_acc1))"
   ]
  },
  {
   "cell_type": "markdown",
   "metadata": {},
   "source": [
    "... I tried different dimensions of the subset (to get the best parameters) and even the total dataset, since the computational time wasn't too high. In the end I decided to keep the optimal values obtained with the whole dataset and perform another cross validation (same seed and kfolds) in order to get the best weights and used them in the prediction. If I use different seeds and kfolds I get different values for the error at each try, so I decided to keep the same, in order to doublecheck the results."
   ]
  },
  {
   "cell_type": "code",
   "execution_count": null,
   "metadata": {},
   "outputs": [],
   "source": [
    "kfolds = 6\n",
    "\n",
    "rmse_train=[]\n",
    "rmse_test=[]\n",
    "seed = 2\n",
    "\n",
    "# Build indices to split data\n",
    "k_indices = build_k_indices(yb, kfolds, seed)\n",
    "\n",
    "# Define lists to store the loss of training data and test data\n",
    "rmse_opt_tr = []\n",
    "rmse_opt_te = []\n",
    "w_opt_ridge_list = []\n",
    "acc_opt = []\n",
    "\n",
    "# Build X matrix\n",
    "data1 = build_poly(data, deg_opt_acc1)\n",
    "\n",
    "# Loop over the folds\n",
    "for k in range(kfolds):\n",
    "    \n",
    "    data_test, y_test, data_train, y_train = split_dataset(yb, data1, k, k_indices)   \n",
    "        \n",
    "    # Train the model\n",
    "    w_k, mse_k = ridge_regression(y_train, data_train, lam_opt_acc1)\n",
    "    rmse_test = np.sqrt(2*compute_mse(y_test, data_test, w_k))\n",
    "    \n",
    "    # Do the prediction on the test set and compute accuracy\n",
    "    ypred = predict_labels(w_k, data_test)\n",
    "    acc_k = compute_accuracy(ypred, y_test)\n",
    "            \n",
    "    # Store rmse and weights\n",
    "    rmse_opt_tr.append(np.sqrt(2*mse_k))\n",
    "    rmse_opt_te.append(rmse_test)\n",
    "    w_opt_ridge_list.append(w_k)\n",
    "    acc_opt.append(acc_k)\n",
    "    \n",
    "# Get the best weights and the errors\n",
    "w_opt_ridge = np.mean(w_opt_ridge_list, axis=0)\n",
    "\n",
    "print('Test RMSE: {te}'.format(te=np.mean(rmse_opt_te)))\n",
    "print('Train RMSE: {tr}'.format(tr=np.mean(rmse_opt_tr)))\n",
    "print('Accuracy: {acc}'.format(acc=np.mean(acc_opt)))"
   ]
  },
  {
   "cell_type": "markdown",
   "metadata": {},
   "source": [
    "RMSE values with deg=2 and lambda=0.0011937766417144358, subset 1:25 :\n",
    "Train RMSE: 0.8014915854773715\n",
    "Test RMSE: 0.8305541106371641\n",
    "\n",
    "RMSE values with deg=3 and lambda=0.007038135554931562, subset 1:20 :\n",
    "Train RMSE: 0.793285618340946\n",
    "Test RMSE: 1.3284903246013344\n",
    "\n",
    "RMSE values with deg=2 and lambda=0.0002894266124716752, subset 1:15 :\n",
    "Train RMSE: 0.801442221422809\n",
    "Test RMSE: 0.8276588788503378\n",
    "\n",
    "RMSE values with deg=4 and lambda=0.08376776400682924, subset 1:10 :\n",
    "Train RMSE: 0.7945378819037896\n",
    "Test RMSE: 17.95365044601708\n",
    "\n",
    "RMSE values with deg=3 and lambda=0.11689518164985777, whole dataset:\n",
    "Train RMSE: 0.8013123911573933\n",
    "Test RMSE: 0.8075341744448667"
   ]
  },
  {
   "cell_type": "code",
   "execution_count": null,
   "metadata": {},
   "outputs": [],
   "source": [
    "# Let's try a submission!!! %---the last one was with the accuracy---%\n",
    "data_path_sub = \"datasets/test.csv\"\n",
    "yb_sub, input_data_sub, ids_sub = load_csv_data(data_path_sub, sub_sample=False)\n",
    "\n",
    "#preparing the matrix\n",
    "cleansubx = input_data_sub\n",
    "cleansubx[np.where(cleansubx == -999)] = 0\n",
    "means_by_columns = np.mean(cleansubx, axis=0)\n",
    "\n",
    "for i in range(30):\n",
    "    input_data_sub[:,np.where(input_data_sub[:,i]==-999)] = means_by_columns[i]\n",
    "    \n",
    "input_data_sub = standardize(input_data_sub)\n",
    "data_sub = np.delete(input_data_sub,[5,9,12,21,22,23,29],1)\n",
    "\n",
    "data_sub1 = build_poly(data_sub, deg_opt_acc1)\n",
    "print(data_sub1.shape)\n"
   ]
  },
  {
   "cell_type": "code",
   "execution_count": null,
   "metadata": {},
   "outputs": [],
   "source": [
    "print(w_opt_ridge.shape)\n",
    "ypred = predict_labels(w_opt_ridge, data_sub1)\n",
    "create_csv_submission(ids_sub,ypred,'ridgeaccuracy.csv')"
   ]
  },
  {
   "cell_type": "markdown",
   "metadata": {},
   "source": [
    "## Logistic regression\n",
    "We wrote the 4 functions (logistic, reg_logistic, logistic_newton, reg_logistic_newton) and they work."
   ]
  },
  {
   "cell_type": "code",
   "execution_count": 33,
   "metadata": {},
   "outputs": [
    {
     "name": "stdout",
     "output_type": "stream",
     "text": [
      "Current iteration=50, loss=4.936360795648412, norm_grad = 1015.7045794324531\n",
      "Current iteration=100, loss=-3.8535004498518504, norm_grad = 6.0878142516969715\n",
      "Current iteration=150, loss=-3.9138533209930984, norm_grad = 0.03607459508846492\n",
      "Current iteration=200, loss=-3.9142145219163353, norm_grad = 0.00021359493813784706\n"
     ]
    }
   ],
   "source": [
    "from myhelpers import *\n",
    "\n",
    "dataprova = data[::10]\n",
    "ybprova = yb[::10]\n",
    "ids = ids[::10]\n",
    "\n",
    "maxit = 10000\n",
    "lambda_= 30\n",
    "initial_w = np.zeros(data.shape[1])\n",
    "gamma = 0.05\n",
    "\n",
    "w, loss = reg_logistic_newton(ybprova, dataprova, lambda_ , initial_w, maxit, gamma)"
   ]
  },
  {
   "cell_type": "markdown",
   "metadata": {},
   "source": [
    "## Create submission\n",
    "Given the test data set, we need to split it according to the jet number (KEEPING THE ORIGINAL IDS), and then apply the same feature engineering techniques that we have on the train dataset (standardize, remove columns and build polynomials); make predictions according to the model and then rebuild the ypred."
   ]
  },
  {
   "cell_type": "code",
   "execution_count": null,
   "metadata": {},
   "outputs": [],
   "source": [
    "def create_submission(y1, id1, y2, id2, y3, id3, y4, id4, total_ids, name_file):\n",
    "    \"\"\"Reconstruct the prediction on the whole dataset starting from the partial ones obtained with the different models\n",
    "    the name_file should be in the string format 'name.csv' \"\"\"\n",
    "    \n",
    "    ypred = np.zeros(len(total_ids))\n",
    "    \n",
    "    ypred[id1] = y1\n",
    "    ypred[id2] = y2\n",
    "    ypred[id3] = y3\n",
    "    ypred[id4] = y4\n",
    "    \n",
    "    create_csv_submission(total_ids, ypred, name_file)    "
   ]
  },
  {
   "cell_type": "code",
   "execution_count": null,
   "metadata": {},
   "outputs": [],
   "source": [
    "#testing the function\n",
    "tot = np.array(range(12))\n",
    "id1 = np.array([2,7,5])\n",
    "id2 = np.array([1,11,10])\n",
    "id3 = np.array([3,9,0])\n",
    "id4 = np.array([4,6,8])\n",
    "\n",
    "y1 = np.array([1,1,1])\n",
    "y2 = np.array([2,2,2])\n",
    "y3 = np.array([3,3,3])\n",
    "y4 = np.array([4,4,4])\n",
    "\n",
    "create_submission(y1, id1, y2, id2, y3, id3, y4, id4, tot, 'prova.csv')"
   ]
  },
  {
   "cell_type": "code",
   "execution_count": null,
   "metadata": {},
   "outputs": [],
   "source": []
  }
 ],
 "metadata": {
  "kernelspec": {
   "display_name": "Python 3",
   "language": "python",
   "name": "python3"
  },
  "language_info": {
   "codemirror_mode": {
    "name": "ipython",
    "version": 3
   },
   "file_extension": ".py",
   "mimetype": "text/x-python",
   "name": "python",
   "nbconvert_exporter": "python",
   "pygments_lexer": "ipython3",
   "version": "3.6.5"
  }
 },
 "nbformat": 4,
 "nbformat_minor": 2
}
